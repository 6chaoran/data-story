{
 "cells": [
  {
   "cell_type": "code",
   "execution_count": 23,
   "metadata": {},
   "outputs": [],
   "source": [
    "import numpy as np\n",
    "import pandas as pd\n",
    "from selenium import webdriver\n",
    "from selenium.webdriver.common.keys import Keys\n",
    "from datetime import datetime\n",
    "import os\n",
    "\n",
    "URL = 'https://voice.baidu.com/act/newpneumonia/newpneumonia/'\n",
    "\n",
    "driver = webdriver.Chrome('./chromedriver.exe')\n",
    "driver.get(URL)"
   ]
  },
  {
   "cell_type": "code",
   "execution_count": 24,
   "metadata": {},
   "outputs": [],
   "source": [
    "all_states = driver.find_elements_by_xpath(\n",
    "'//*[@id=\"nationTable\"]/table/tbody/tr')\n",
    "\n",
    "# close 1st state\n",
    "all_states[0].click()"
   ]
  },
  {
   "cell_type": "code",
   "execution_count": 25,
   "metadata": {},
   "outputs": [],
   "source": [
    "# record state level data\n",
    "all_states = driver.find_elements_by_xpath(\n",
    "'//*[@id=\"nationTable\"]/table/tbody/tr')\n",
    "states = [i.text for i in all_states]"
   ]
  },
  {
   "cell_type": "code",
   "execution_count": 26,
   "metadata": {},
   "outputs": [],
   "source": [
    "# click the state tag to expand the city view\n",
    "for state in all_states:\n",
    "    state.click()"
   ]
  },
  {
   "cell_type": "code",
   "execution_count": 27,
   "metadata": {},
   "outputs": [],
   "source": [
    "# record city level data\n",
    "cities = []\n",
    "all_cities = driver.find_elements_by_xpath(\n",
    "'//*[@id=\"nationTable\"]/table/tbody/tr/td/table')\n",
    "for city in all_cities:\n",
    "    rows = city.find_elements_by_xpath('./tbody/tr')\n",
    "    value = [i.text for i in rows]\n",
    "    cities +=value"
   ]
  },
  {
   "cell_type": "code",
   "execution_count": 28,
   "metadata": {},
   "outputs": [],
   "source": [
    "expand_btn = driver.find_element_by_xpath(\n",
    "    '//*[@id=\"foreignTable\"]/div/span')\n",
    "expand_btn.click()\n",
    "\n",
    "# record country level data\n",
    "countries = driver.find_elements_by_xpath(\n",
    "'//*[@id=\"foreignTable\"]/table/tbody/tr')\n",
    "countries = [i.text for i in countries]"
   ]
  },
  {
   "cell_type": "code",
   "execution_count": 29,
   "metadata": {},
   "outputs": [],
   "source": [
    "# close browser\n",
    "driver.close()"
   ]
  },
  {
   "cell_type": "code",
   "execution_count": 30,
   "metadata": {},
   "outputs": [
    {
     "name": "stdout",
     "output_type": "stream",
     "text": [
      "['武汉\\n35991 1922 1036', '孝感\\n3009 255 49', '黄冈\\n2791 504 59']\n",
      "['湖北\\n51986 3862 1318', '广东\\n1261 332 2', '河南\\n1184 316 11']\n",
      "['日本\\n252 1 1', '新加坡\\n58 15 -', '泰国\\n33 10 -']\n"
     ]
    }
   ],
   "source": [
    "print(cities[:3])\n",
    "print(states[:3])\n",
    "print(countries[:3])"
   ]
  },
  {
   "cell_type": "code",
   "execution_count": 31,
   "metadata": {},
   "outputs": [],
   "source": [
    "# post process data\n",
    "def process_raw(x):\n",
    "    name,v = x.split('\\n')\n",
    "    confirm, recover, death = v.split(' ')\n",
    "    return {'name':name, \n",
    "            'confirmed':confirm, \n",
    "            'recovered': recover, \n",
    "            'death': death}"
   ]
  },
  {
   "cell_type": "code",
   "execution_count": 32,
   "metadata": {},
   "outputs": [
    {
     "data": {
      "text/html": [
       "<div>\n",
       "<style scoped>\n",
       "    .dataframe tbody tr th:only-of-type {\n",
       "        vertical-align: middle;\n",
       "    }\n",
       "\n",
       "    .dataframe tbody tr th {\n",
       "        vertical-align: top;\n",
       "    }\n",
       "\n",
       "    .dataframe thead th {\n",
       "        text-align: right;\n",
       "    }\n",
       "</style>\n",
       "<table border=\"1\" class=\"dataframe\">\n",
       "  <thead>\n",
       "    <tr style=\"text-align: right;\">\n",
       "      <th></th>\n",
       "      <th>name</th>\n",
       "      <th>confirmed</th>\n",
       "      <th>recovered</th>\n",
       "      <th>death</th>\n",
       "    </tr>\n",
       "  </thead>\n",
       "  <tbody>\n",
       "    <tr>\n",
       "      <td>0</td>\n",
       "      <td>武汉</td>\n",
       "      <td>35991</td>\n",
       "      <td>1922</td>\n",
       "      <td>1036</td>\n",
       "    </tr>\n",
       "    <tr>\n",
       "      <td>1</td>\n",
       "      <td>孝感</td>\n",
       "      <td>3009</td>\n",
       "      <td>255</td>\n",
       "      <td>49</td>\n",
       "    </tr>\n",
       "    <tr>\n",
       "      <td>2</td>\n",
       "      <td>黄冈</td>\n",
       "      <td>2791</td>\n",
       "      <td>504</td>\n",
       "      <td>59</td>\n",
       "    </tr>\n",
       "    <tr>\n",
       "      <td>3</td>\n",
       "      <td>荆州</td>\n",
       "      <td>1447</td>\n",
       "      <td>102</td>\n",
       "      <td>23</td>\n",
       "    </tr>\n",
       "    <tr>\n",
       "      <td>4</td>\n",
       "      <td>随州</td>\n",
       "      <td>1206</td>\n",
       "      <td>62</td>\n",
       "      <td>14</td>\n",
       "    </tr>\n",
       "  </tbody>\n",
       "</table>\n",
       "</div>"
      ],
      "text/plain": [
       "  name confirmed recovered death\n",
       "0   武汉     35991      1922  1036\n",
       "1   孝感      3009       255    49\n",
       "2   黄冈      2791       504    59\n",
       "3   荆州      1447       102    23\n",
       "4   随州      1206        62    14"
      ]
     },
     "execution_count": 32,
     "metadata": {},
     "output_type": "execute_result"
    }
   ],
   "source": [
    "cities = [process_raw(i) for i in cities]\n",
    "df_cities = pd.DataFrame(cities)\n",
    "df_cities.head()"
   ]
  },
  {
   "cell_type": "code",
   "execution_count": 33,
   "metadata": {},
   "outputs": [
    {
     "data": {
      "text/html": [
       "<div>\n",
       "<style scoped>\n",
       "    .dataframe tbody tr th:only-of-type {\n",
       "        vertical-align: middle;\n",
       "    }\n",
       "\n",
       "    .dataframe tbody tr th {\n",
       "        vertical-align: top;\n",
       "    }\n",
       "\n",
       "    .dataframe thead th {\n",
       "        text-align: right;\n",
       "    }\n",
       "</style>\n",
       "<table border=\"1\" class=\"dataframe\">\n",
       "  <thead>\n",
       "    <tr style=\"text-align: right;\">\n",
       "      <th></th>\n",
       "      <th>name</th>\n",
       "      <th>confirmed</th>\n",
       "      <th>recovered</th>\n",
       "      <th>death</th>\n",
       "    </tr>\n",
       "  </thead>\n",
       "  <tbody>\n",
       "    <tr>\n",
       "      <td>0</td>\n",
       "      <td>湖北</td>\n",
       "      <td>51986</td>\n",
       "      <td>3862</td>\n",
       "      <td>1318</td>\n",
       "    </tr>\n",
       "    <tr>\n",
       "      <td>1</td>\n",
       "      <td>广东</td>\n",
       "      <td>1261</td>\n",
       "      <td>332</td>\n",
       "      <td>2</td>\n",
       "    </tr>\n",
       "    <tr>\n",
       "      <td>2</td>\n",
       "      <td>河南</td>\n",
       "      <td>1184</td>\n",
       "      <td>316</td>\n",
       "      <td>11</td>\n",
       "    </tr>\n",
       "    <tr>\n",
       "      <td>3</td>\n",
       "      <td>浙江</td>\n",
       "      <td>1155</td>\n",
       "      <td>367</td>\n",
       "      <td>-</td>\n",
       "    </tr>\n",
       "    <tr>\n",
       "      <td>4</td>\n",
       "      <td>湖南</td>\n",
       "      <td>988</td>\n",
       "      <td>363</td>\n",
       "      <td>2</td>\n",
       "    </tr>\n",
       "  </tbody>\n",
       "</table>\n",
       "</div>"
      ],
      "text/plain": [
       "  name confirmed recovered death\n",
       "0   湖北     51986      3862  1318\n",
       "1   广东      1261       332     2\n",
       "2   河南      1184       316    11\n",
       "3   浙江      1155       367     -\n",
       "4   湖南       988       363     2"
      ]
     },
     "execution_count": 33,
     "metadata": {},
     "output_type": "execute_result"
    }
   ],
   "source": [
    "states = [process_raw(i) for i in states]\n",
    "df_states = pd.DataFrame(states)\n",
    "df_states.head()"
   ]
  },
  {
   "cell_type": "code",
   "execution_count": 34,
   "metadata": {},
   "outputs": [
    {
     "data": {
      "text/html": [
       "<div>\n",
       "<style scoped>\n",
       "    .dataframe tbody tr th:only-of-type {\n",
       "        vertical-align: middle;\n",
       "    }\n",
       "\n",
       "    .dataframe tbody tr th {\n",
       "        vertical-align: top;\n",
       "    }\n",
       "\n",
       "    .dataframe thead th {\n",
       "        text-align: right;\n",
       "    }\n",
       "</style>\n",
       "<table border=\"1\" class=\"dataframe\">\n",
       "  <thead>\n",
       "    <tr style=\"text-align: right;\">\n",
       "      <th></th>\n",
       "      <th>name</th>\n",
       "      <th>confirmed</th>\n",
       "      <th>recovered</th>\n",
       "      <th>death</th>\n",
       "    </tr>\n",
       "  </thead>\n",
       "  <tbody>\n",
       "    <tr>\n",
       "      <td>0</td>\n",
       "      <td>日本</td>\n",
       "      <td>252</td>\n",
       "      <td>1</td>\n",
       "      <td>1</td>\n",
       "    </tr>\n",
       "    <tr>\n",
       "      <td>1</td>\n",
       "      <td>新加坡</td>\n",
       "      <td>58</td>\n",
       "      <td>15</td>\n",
       "      <td>-</td>\n",
       "    </tr>\n",
       "    <tr>\n",
       "      <td>2</td>\n",
       "      <td>泰国</td>\n",
       "      <td>33</td>\n",
       "      <td>10</td>\n",
       "      <td>-</td>\n",
       "    </tr>\n",
       "    <tr>\n",
       "      <td>3</td>\n",
       "      <td>韩国</td>\n",
       "      <td>28</td>\n",
       "      <td>7</td>\n",
       "      <td>-</td>\n",
       "    </tr>\n",
       "    <tr>\n",
       "      <td>4</td>\n",
       "      <td>马来西亚</td>\n",
       "      <td>19</td>\n",
       "      <td>3</td>\n",
       "      <td>-</td>\n",
       "    </tr>\n",
       "  </tbody>\n",
       "</table>\n",
       "</div>"
      ],
      "text/plain": [
       "   name confirmed recovered death\n",
       "0    日本       252         1     1\n",
       "1   新加坡        58        15     -\n",
       "2    泰国        33        10     -\n",
       "3    韩国        28         7     -\n",
       "4  马来西亚        19         3     -"
      ]
     },
     "execution_count": 34,
     "metadata": {},
     "output_type": "execute_result"
    }
   ],
   "source": [
    "countries = [process_raw(i) for i in countries]\n",
    "df_countries = pd.DataFrame(countries)\n",
    "df_countries.head()"
   ]
  },
  {
   "cell_type": "code",
   "execution_count": 35,
   "metadata": {},
   "outputs": [],
   "source": [
    "# save data\n",
    "\n",
    "suffix = datetime.today().strftime('%Y%m%d')\n",
    "output_dir = 'covid19_data'\n",
    "output = os.path.join(output_dir, suffix)\n",
    "\n",
    "if not os.path.exists(output):\n",
    "    os.mkdir(output)\n",
    "    \n",
    "df_cities.to_csv(\n",
    "    '{}/cities.csv'.format(output), \n",
    "    index = False, encoding='utf-8')\n",
    "\n",
    "df_states.to_csv(\n",
    "    '{}/states.csv'.format(output), \n",
    "    index = False, encoding='utf-8')\n",
    "\n",
    "df_countries.to_csv(\n",
    "    '{}/countries.csv'.format(output), \n",
    "    index = False, encoding='utf-8')"
   ]
  }
 ],
 "metadata": {
  "kernelspec": {
   "display_name": "Python [conda env:mypy3]",
   "language": "python",
   "name": "conda-env-mypy3-py"
  },
  "language_info": {
   "codemirror_mode": {
    "name": "ipython",
    "version": 3
   },
   "file_extension": ".py",
   "mimetype": "text/x-python",
   "name": "python",
   "nbconvert_exporter": "python",
   "pygments_lexer": "ipython3",
   "version": "3.6.8"
  }
 },
 "nbformat": 4,
 "nbformat_minor": 2
}

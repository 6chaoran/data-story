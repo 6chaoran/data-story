{
 "cells": [
  {
   "cell_type": "markdown",
   "metadata": {},
   "source": [
    "## Digit Recognizer\n",
    "This time I am going to continue with the kaggle 101 level competition - [digit recogniser](https://www.kaggle.com/c/digit-recognizer) with deep learning tool Tensor Flow.\n",
    "\n",
    "### 0. Previously\n",
    "In the [previous post](https://github.com/6chaoran/DataStory/tree/master/kaggle-digits), I used PCA and Pooling methods to reduce the dimensions of the dataset, and train with the linear SVM. Due to the limited efficiency of the R SVM package. I only sampled 500 records and performed a 10-fold cross validation. The resulting accuracy is about 82.7%\n",
    "\n",
    "### 1. This Time\n",
    "With new tool TensorFlow, we can address the problem differently:\n",
    "* __Deep Learning__, especially Convolutional Neural Network is well suitable for image recognition problem.\n",
    "* __TensorFlow__ is a good tool to equickly build the neural network architecture and also empowers the capability of GPUs.\n",
    "* __Convolution Layers__ artificially create additional features\n",
    "* __Stochastic Gradient Descent__ replaces Gradient Descent. SGD takes sample of data to update the gradients, making training fast and less RAM consumption. \n",
    "\n",
    "Fully utilized the entire dataset (42k records) with deep learning models, the accuracy easily go up above 95%."
   ]
  },
  {
   "cell_type": "markdown",
   "metadata": {},
   "source": [
    "### 2. Load Data\n",
    "data was prepared using pandas, and saved as numpy array"
   ]
  },
  {
   "cell_type": "code",
   "execution_count": 1,
   "metadata": {
    "collapsed": true
   },
   "outputs": [],
   "source": [
    "## load releveant packages\n",
    "import numpy as np\n",
    "import tensorflow as tf\n",
    "import matplotlib.pyplot as plt\n",
    "%matplotlib inline"
   ]
  },
  {
   "cell_type": "code",
   "execution_count": 2,
   "metadata": {
    "collapsed": true
   },
   "outputs": [],
   "source": [
    "data = np.load('train_data.npy')\n",
    "Y = data[:,0].astype(np.int8)\n",
    "X = data[:,1:].astype(np.float32)"
   ]
  },
  {
   "cell_type": "markdown",
   "metadata": {},
   "source": [
    "### 3. Visualize Image"
   ]
  },
  {
   "cell_type": "code",
   "execution_count": 3,
   "metadata": {},
   "outputs": [
    {
     "data": {
      "image/png": "[encoded data removed]",
      "text/plain": [
       "<matplotlib.figure.Figure at 0x10d703d10>"
      ]
     },
     "metadata": {},
     "output_type": "display_data"
    }
   ],
   "source": [
    "n = 5\n",
    "fig, subs = plt.subplots(n,n)\n",
    "k = 0\n",
    "for i in range(n):\n",
    "    for j in range(n):\n",
    "        subs[i,j].imshow(X[k].reshape(28,28), cmap = 'gray')\n",
    "        k+=1"
   ]
  },
  {
   "cell_type": "markdown",
   "metadata": {},
   "source": [
    "### Split Data Into Train/Validation\n",
    "split 70% train set and 30% validation set"
   ]
  },
  {
   "cell_type": "code",
   "execution_count": 4,
   "metadata": {},
   "outputs": [],
   "source": [
    "n,dim = X.shape\n",
    "index = np.arange(n)\n",
    "np.random.shuffle(index)\n",
    "cut = int(0.7*n)\n",
    "inTrain = index[:cut]\n",
    "inVal = index[cut:]\n",
    "\n",
    "X_train = X[inTrain,:]\n",
    "Y_train = Y[inTrain]\n",
    "X_val = X[inVal,:]\n",
    "Y_val = Y[inVal]"
   ]
  },
  {
   "cell_type": "markdown",
   "metadata": {},
   "source": [
    "### 4. Deep Neural Network - DNN\n",
    "Deep Neural Network consists of input layer, mulitple hidden layers and output layer.\n",
    "* __Input Layer__, denoted as X, is the data with full dimension\n",
    "* __Hidden Layer__, is the layer affined from input layer (in multiple times) by the weight w and bias b. The affined score is then denoted as wX+b. The scored need to be activated through a activation function. ReLU (rectified linear unit) is used in here.\n",
    "* __Output Layer__, is affined score from the last hidden layer, and the score will finally map to prediction output.\n",
    "\n",
    "In this exmpale, I'm going to build a two layer DNN:\n",
    "\n",
    "* input layer: take full dimension of 784 (28*28)\n",
    "* hidden layer: affine dimension 784 to 256\n",
    "* output layer: affine dimension 256 to 10"
   ]
  },
  {
   "cell_type": "code",
   "execution_count": 5,
   "metadata": {
    "collapsed": true
   },
   "outputs": [],
   "source": [
    "def init_weight(shape):\n",
    "    return tf.Variable(tf.truncated_normal(dtype=tf.float32, shape = shape, stddev=1e-4), dtype = tf.float32)\n",
    "\n",
    "def init_bias(shape):\n",
    "    return tf.Variable(tf.zeros(shape),dtype=tf.float32)"
   ]
  },
  {
   "cell_type": "code",
   "execution_count": 6,
   "metadata": {},
   "outputs": [],
   "source": [
    "def DNN(x,y,reg,keep_prob,Dropout = False):\n",
    "\n",
    "    ## define weight and bias\n",
    "    Wfc1 = init_weight([784,256])\n",
    "    Bfc1 = init_bias([256])\n",
    "    Wfc2 = init_weight([256,10])\n",
    "    Bfc2 = init_bias([10])\n",
    "\n",
    "    ## define two layer nn:\n",
    "    a1 = tf.matmul(x,Wfc1)+Bfc1  # fully-connected layer1\n",
    "    a2 = tf.nn.relu(a1)  # ReLU activation layer\n",
    "    logits = tf.matmul(a2,Wfc2)+Bfc2  # fully-connnected layer2\n",
    "    \n",
    "    ## forward step: get softmax loss and L2 regularized loss\n",
    "    total_loss = tf.losses.sparse_softmax_cross_entropy(labels=y,logits=logits)\n",
    "    mean_loss = tf.reduce_mean(total_loss)\n",
    "    reg_loss = tf.reduce_mean(tf.square(Wfc1)) + tf.reduce_mean(tf.square(Wfc2))\n",
    "    loss = mean_loss + reg * reg_loss\n",
    "    \n",
    "    ## get accuracy\n",
    "    y_ = tf.cast(tf.argmax(logits,axis=1), tf.int32)\n",
    "    acc = tf.reduce_mean(tf.cast(tf.equal(y_,y),tf.float32))\n",
    "    return loss, acc"
   ]
  },
  {
   "cell_type": "markdown",
   "metadata": {},
   "source": [
    "### 5. Convolutional Neural Network - CNN\n",
    "Additionally introduce __Convolutional_layer__ and __Pool_layer__ to tackle the image problem\n",
    "In this simple CNN:\n",
    "* conv layer: 32 5x5x1 filters\n",
    "* pool layer: 2x2 max pool\n",
    "* relu layer\n",
    "* densely connectd layer: affined to 1024 dimension\n",
    "* relu layer\n",
    "* readout layer: affined to 10 classes"
   ]
  },
  {
   "cell_type": "code",
   "execution_count": 15,
   "metadata": {
    "collapsed": true
   },
   "outputs": [],
   "source": [
    "def conv2d(X,W):\n",
    "    return tf.nn.conv2d(X,W,strides=[1,2,2,1],padding='SAME')\n",
    "\n",
    "def max_pool_2x2(X):\n",
    "    return tf.nn.max_pool(X,ksize=[1,2,2,1],strides=[1,2,2,1],padding='SAME')"
   ]
  },
  {
   "cell_type": "code",
   "execution_count": 8,
   "metadata": {
    "collapsed": true
   },
   "outputs": [],
   "source": [
    "## define a CNN\n",
    "def CNN(x,y,reg,keep_prob,Dropout = False):\n",
    "    \n",
    "    x_fold = tf.reshape(x,[-1,28,28,1])\n",
    "    \n",
    "    ## init filters\n",
    "    Wconv1 = init_weight([5,5,1,32])\n",
    "    Bconv1 = init_bias([32])\n",
    "\n",
    "    ## init weight and bias\n",
    "    Wfc1 = init_weight([7*7*32,1024])\n",
    "    Bfc1 = init_bias([1024])\n",
    "    Wfc2 = init_weight([1024,10])\n",
    "    Bfc2 = init_bias([10])\n",
    "\n",
    "    ## two layer nn\n",
    "    a1 = (conv2d(x_fold,Wconv1)+Bconv1) #conv1\n",
    "    a2 = tf.nn.relu(max_pool_2x2(a1)) #maxpool1\n",
    "    if Dropout:\n",
    "        dropout = tf.reshape(tf.nn.dropout(a2, keep_prob=keep_prob),[-1,7*7*32])\n",
    "    else:\n",
    "        dropout = tf.reshape(a2,[-1,7*7*32])\n",
    "    a3 = tf.matmul(dropout,Wfc1)+Bfc1 #full-connected 1\n",
    "    logits = tf.matmul(a3,Wfc2)+Bfc2 # fully-connected 2\n",
    "    \n",
    "    ## get loss\n",
    "    total_loss = tf.losses.sparse_softmax_cross_entropy(labels=y,logits=logits)\n",
    "    mean_loss = tf.reduce_mean(total_loss)\n",
    "    reg_loss = tf.reduce_mean(tf.square(Wfc1)) + tf.reduce_mean(tf.square(Wfc2))\n",
    "    loss = mean_loss + reg * reg_loss\n",
    "    \n",
    "    ##  get accuracy\n",
    "    y_ = tf.cast(tf.argmax(logits,axis=1), tf.int32)\n",
    "    acc = tf.reduce_mean(tf.cast(tf.equal(y_,y),tf.float32))\n",
    "    return loss, acc"
   ]
  },
  {
   "cell_type": "markdown",
   "metadata": {},
   "source": [
    "### 6. Deeper CNN\n",
    "Go deeper with the CNN:\n",
    "\n",
    "* conv layer: 32 5x5x1 filters\n",
    "* pool layer: 2x2 max pool\n",
    "* relu layer\n",
    "* conv layer: 64 5x5x1 filters\n",
    "* pool layer: 2x2 max pool\n",
    "* relu layer\n",
    "* densely connectd layer: affined to 1024 dimension\n",
    "* relu layer\n",
    "* readout layer: affined to 10 classes\n"
   ]
  },
  {
   "cell_type": "code",
   "execution_count": 9,
   "metadata": {
    "collapsed": true
   },
   "outputs": [],
   "source": [
    "def deep_CNN(x,y,reg,keep_prob,Dropout = False):\n",
    "    \n",
    "    x_fold = tf.reshape(x,[-1,28,28,1])\n",
    "    \n",
    "    ## init filters\n",
    "    Wconv1 = init_weight([5,5,1,32])\n",
    "    Bconv1 = init_bias([32])\n",
    "    Wconv2 = init_weight([5,5,32,64])\n",
    "    Bconv2 = init_bias([64])\n",
    "\n",
    "    ## init weight and bias\n",
    "    Wfc1 = init_weight([2*2*64,1024])\n",
    "    Bfc1 = init_bias([1024])\n",
    "    Wfc2 = init_weight([1024,10])\n",
    "    Bfc2 = init_bias([10])\n",
    "\n",
    "    ## two layer nn\n",
    "    a1 = (conv2d(x_fold,Wconv1)+Bconv1) #conv1\n",
    "    a2 = tf.nn.relu(max_pool_2x2(a1)) #maxpool1\n",
    "    a3 = (conv2d(a2,Wconv2)+Bconv2) #conv1\n",
    "    a4 = tf.nn.relu(max_pool_2x2(a3)) #maxpool1\n",
    "    a5 = tf.reshape(a4,[-1,2*2*64])\n",
    "    if Dropout:\n",
    "        dropout = tf.nn.dropout(a5,keep_prob)\n",
    "    else:\n",
    "        dropout = a5\n",
    "    a6 = tf.nn.relu(tf.matmul(dropout,Wfc1)+Bfc1) #full-connected 1\n",
    "    logits = tf.matmul(a6,Wfc2)+Bfc2 # fully-connected 2\n",
    "    \n",
    "    ## get loss\n",
    "    total_loss = tf.losses.sparse_softmax_cross_entropy(labels=y,logits=logits)\n",
    "    mean_loss = tf.reduce_mean(total_loss)\n",
    "    reg_loss = tf.reduce_mean(tf.square(Wfc1)) + tf.reduce_mean(tf.square(Wfc2))\n",
    "    loss = mean_loss + reg * reg_loss\n",
    "    \n",
    "    ##  get accuracy\n",
    "    y_ = tf.cast(tf.argmax(logits,axis=1), tf.int32)\n",
    "    acc = tf.reduce_mean(tf.cast(tf.equal(y_,y),tf.float32))\n",
    "    return loss, acc"
   ]
  },
  {
   "cell_type": "markdown",
   "metadata": {},
   "source": [
    "### 7. Evaluate Different Models\n",
    "* DNN is fast and gives ~95.7% accuracy.\n",
    "* CNN is much slower due to proccessing of convolutional layers. Accuary is then improved to 96.2% and 98% for CNN and deeper CNN respectively."
   ]
  },
  {
   "cell_type": "code",
   "execution_count": 10,
   "metadata": {
    "collapsed": true
   },
   "outputs": [],
   "source": [
    "def run_model(model,X_train,Y_train,X_val,Y_val,lr = 1e-3,reg = 0.3,dropout = False,keep_prob = 0.5,maxIter = 200,batchSize = 128):\n",
    "    \n",
    "    n,_ = X_train.shape # get train size \n",
    "    \n",
    "    ## define placeholder (containers) \n",
    "    ## for features - x, label - y, regularization - reg\n",
    "    x = tf.placeholder(dtype=tf.float32, shape=[None,784]) \n",
    "    y = tf.placeholder(dtype = tf.int32, shape= [None])\n",
    "    keepProb = tf.placeholder(dtype=tf.float32)\n",
    "    \n",
    "    ## get loss, accuracy from specific model\n",
    "    loss, acc = model(x,y,reg,keepProb,dropout)\n",
    "    ## used AdamOptimizer(GradientDesenct Alternative)\n",
    "    optimizer = tf.train.AdamOptimizer(lr) \n",
    "    train_step = optimizer.minimize(loss) # objective - minimize loss function\n",
    "    \n",
    "    ## populate loss/accuarcy history for plotting\n",
    "    lossHistory = []\n",
    "    accHistory = []\n",
    "    \n",
    "    with tf.Session() as sess:\n",
    "        sess.run(tf.global_variables_initializer())\n",
    "        print ('Training')\n",
    "        \n",
    "        ## stochastic training with batchSize 128\n",
    "        for i in range(maxIter):\n",
    "            inTrain = np.random.choice(n,batchSize)\n",
    "            batchX = X_train[inTrain,:]\n",
    "            batchY = Y_train[inTrain]\n",
    "            train_step.run(feed_dict={x:batchX,y:batchY,keepProb:keep_prob},session=sess)\n",
    "            \n",
    "            iterLoss = loss.eval(feed_dict={x:batchX,y:batchY,keepProb:1.0},session=sess)\n",
    "            iterAcc = acc.eval(feed_dict={x:batchX,y:batchY,keepProb:1.0},session=sess)\n",
    "            lossHistory.append(iterLoss)\n",
    "            accHistory.append(iterAcc)\n",
    "            if i%100 ==0:\n",
    "                print ('iter {0:2d}: loss {1:.3f} acc {2:.3f}').format(i,iterLoss, iterAcc)\n",
    "\n",
    "        print('Validation')\n",
    "        iterLoss = loss.eval(feed_dict={x:X_val,y:Y_val,keepProb:1.0},session=sess)\n",
    "        iterAcc = acc.eval(feed_dict={x:X_val,y:Y_val,keepProb:1.0},session=sess)\n",
    "        print('loss {0:.3f} acc {1:.3f}').format(iterLoss, iterAcc)\n",
    "        \n",
    "        fig, (lossPlot,accPlot) = plt.subplots(1,2)\n",
    "        accPlot.plot(accHistory[1:], 'go-', label='accuracy', linewidth=2)\n",
    "        accPlot.set_title(\"Batch Accuracy\")\n",
    "        lossPlot.plot(lossHistory[1:], 'bo-', label='loss', linewidth=2)\n",
    "        lossPlot.set_title(\"Batch Loss\")"
   ]
  },
  {
   "cell_type": "code",
   "execution_count": 11,
   "metadata": {},
   "outputs": [
    {
     "name": "stdout",
     "output_type": "stream",
     "text": [
      "Training\n",
      "iter  0: loss 2.190 acc 0.273\n",
      "iter 100: loss 0.131 acc 0.945\n",
      "iter 200: loss 0.059 acc 0.977\n",
      "iter 300: loss 0.037 acc 0.984\n",
      "iter 400: loss 0.038 acc 0.984\n",
      "iter 500: loss 0.062 acc 0.969\n",
      "iter 600: loss 0.073 acc 0.977\n",
      "iter 700: loss 0.078 acc 0.984\n",
      "iter 800: loss 0.075 acc 0.977\n",
      "iter 900: loss 0.093 acc 0.977\n",
      "Validation\n",
      "loss 0.180 acc 0.957\n",
      "CPU times: user 54.7 s, sys: 3.86 s, total: 58.6 s\n",
      "Wall time: 20.2 s\n"
     ]
    },
    {
     "data": {
      "image/png": "[encoded data removed]",
      "text/plain": [
       "<matplotlib.figure.Figure at 0x12f47fcd0>"
      ]
     },
     "metadata": {},
     "output_type": "display_data"
    }
   ],
   "source": [
    "%time run_model(DNN, X_train, Y_train, X_val, Y_val,maxIter=1000)"
   ]
  },
  {
   "cell_type": "code",
   "execution_count": 12,
   "metadata": {},
   "outputs": [
    {
     "name": "stdout",
     "output_type": "stream",
     "text": [
      "Training\n",
      "iter  0: loss 2.299 acc 0.227\n",
      "iter 100: loss 0.111 acc 0.984\n",
      "iter 200: loss 0.063 acc 0.984\n",
      "iter 300: loss 0.168 acc 0.953\n",
      "iter 400: loss 0.012 acc 1.000\n",
      "iter 500: loss 0.049 acc 0.984\n",
      "iter 600: loss 0.047 acc 0.992\n",
      "iter 700: loss 0.070 acc 0.984\n",
      "iter 800: loss 0.072 acc 0.984\n",
      "iter 900: loss 0.040 acc 0.992\n",
      "Validation\n",
      "loss 0.145 acc 0.965\n",
      "CPU times: user 8min 19s, sys: 26.3 s, total: 8min 46s\n",
      "Wall time: 2min 37s\n"
     ]
    },
    {
     "data": {
      "image/png": "[encoded data removed]",
      "text/plain": [
       "<matplotlib.figure.Figure at 0x10226c050>"
      ]
     },
     "metadata": {},
     "output_type": "display_data"
    }
   ],
   "source": [
    "%time run_model(CNN, X_train, Y_train, X_val, Y_val,maxIter=1000)"
   ]
  },
  {
   "cell_type": "code",
   "execution_count": 13,
   "metadata": {},
   "outputs": [
    {
     "name": "stdout",
     "output_type": "stream",
     "text": [
      "Training\n",
      "iter  0: loss 2.302 acc 0.133\n",
      "iter 100: loss 0.249 acc 0.922\n",
      "iter 200: loss 0.187 acc 0.953\n",
      "iter 300: loss 0.096 acc 0.969\n",
      "iter 400: loss 0.073 acc 0.977\n",
      "iter 500: loss 0.023 acc 0.992\n",
      "iter 600: loss 0.033 acc 0.984\n",
      "iter 700: loss 0.033 acc 0.984\n",
      "iter 800: loss 0.017 acc 0.992\n",
      "iter 900: loss 0.010 acc 1.000\n",
      "Validation\n",
      "loss 0.070 acc 0.980\n",
      "CPU times: user 5min 42s, sys: 34 s, total: 6min 16s\n",
      "Wall time: 2min 8s\n"
     ]
    },
    {
     "data": {
      "image/png": "[encoded data removed]",
      "text/plain": [
       "<matplotlib.figure.Figure at 0x12fb33e50>"
      ]
     },
     "metadata": {},
     "output_type": "display_data"
    }
   ],
   "source": [
    "%time run_model(deep_CNN, X_train, Y_train, X_val, Y_val,maxIter=1000)"
   ]
  }
 ],
 "metadata": {
  "kernelspec": {
   "display_name": "Python 2",
   "language": "python",
   "name": "python2"
  },
  "language_info": {
   "codemirror_mode": {
    "name": "ipython",
    "version": 2
   },
   "file_extension": ".py",
   "mimetype": "text/x-python",
   "name": "python",
   "nbconvert_exporter": "python",
   "pygments_lexer": "ipython2",
   "version": "2.7.9"
  }
 },
 "nbformat": 4,
 "nbformat_minor": 2
}
